{
  "nbformat": 4,
  "nbformat_minor": 0,
  "metadata": {
    "colab": {
      "provenance": [],
      "authorship_tag": "ABX9TyMvvBI66RZC4cL7b4FhqfUr",
      "include_colab_link": true
    },
    "kernelspec": {
      "name": "python3",
      "display_name": "Python 3"
    },
    "language_info": {
      "name": "python"
    }
  },
  "cells": [
    {
      "cell_type": "markdown",
      "metadata": {
        "id": "view-in-github",
        "colab_type": "text"
      },
      "source": [
        "<a href=\"https://colab.research.google.com/github/mohantym/Sample-C-issues/blob/main/sample_c.ipynb\" target=\"_parent\"><img src=\"https://colab.research.google.com/assets/colab-badge.svg\" alt=\"Open In Colab\"/></a>"
      ]
    },
    {
      "cell_type": "code",
      "execution_count": null,
      "metadata": {
        "id": "rLp7rAJZKg2Q"
      },
      "outputs": [],
      "source": [
        "FILENAME=libtensorflow-cpu-linux-x86_64-2.11.0.tar.gz\n",
        "!wget -q --no-check-certificate https://storage.googleapis.com/tensorflow/libtensorflow/${FILENAME}\n",
        "!sudo tar -C /usr/content -xzf ${FILENAME}"
      ]
    },
    {
      "cell_type": "code",
      "source": [
        "!sudo ldconfig /usr/content/lib"
      ],
      "metadata": {
        "id": "firlalXYKi-K"
      },
      "execution_count": null,
      "outputs": []
    },
    {
      "cell_type": "code",
      "source": [
        "!export LIBRARY_PATH=$LIBRARY_PATH:~/mydir/lib\n",
        "!export LD_LIBRARY_PATH=$LD_LIBRARY_PATH:~/mydir/lib"
      ],
      "metadata": {
        "id": "8esdkroIKk09"
      },
      "execution_count": null,
      "outputs": []
    }
  ]
}