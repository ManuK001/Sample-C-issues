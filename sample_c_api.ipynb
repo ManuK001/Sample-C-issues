{
  "nbformat": 4,
  "nbformat_minor": 0,
  "metadata": {
    "colab": {
      "provenance": [],
      "name": "sample_c-api.ipynb",
      "include_colab_link": true
    },
    "kernelspec": {
      "name": "python3",
      "display_name": "Python 3"
    },
    "language_info": {
      "name": "python"
    }
  },
  "cells": [
    {
      "cell_type": "markdown",
      "metadata": {
        "id": "view-in-github",
        "colab_type": "text"
      },
      "source": [
        "<a href=\"https://colab.research.google.com/github/mohantym/Sample-C-issues/blob/main/sample_c_api.ipynb\" target=\"_parent\"><img src=\"https://colab.research.google.com/assets/colab-badge.svg\" alt=\"Open In Colab\"/></a>"
      ]
    },
    {
      "cell_type": "code",
      "execution_count": 1,
      "metadata": {
        "id": "GY5zt8BweFLT"
      },
      "outputs": [],
      "source": [
        "%%bash\n",
        "FILENAME=libtensorflow-cpu-linux-x86_64-2.11.0.tar.gz\n",
        "wget -q --no-check-certificate https://storage.googleapis.com/tensorflow/libtensorflow/${FILENAME}\n",
        "sudo tar -C /usr/local -xzf ${FILENAME}"
      ]
    },
    {
      "cell_type": "code",
      "source": [
        "%%bash\n",
        "sudo ldconfig /usr/local/lib"
      ],
      "metadata": {
        "id": "38JqiUuZeRD8"
      },
      "execution_count": 2,
      "outputs": []
    },
    {
      "cell_type": "code",
      "source": [
        "%%bash\n",
        "export LIBRARY_PATH=$LIBRARY_PATH:~/usr/local/lib\n",
        "export LD_LIBRARY_PATH=$LD_LIBRARY_PATH:~/usr/local/lib"
      ],
      "metadata": {
        "id": "_0hSSamleRBF"
      },
      "execution_count": 3,
      "outputs": []
    },
    {
      "cell_type": "code",
      "source": [
        "%%writefile hello_tf.c\n",
        "#include <stdio.h>\n",
        "#include <tensorflow/c/c_api.h>\n",
        "\n",
        "int main() {\n",
        "  printf(\"Hello from TensorFlow C library version %s\\n\", TF_Version());\n",
        "  return 0;\n",
        "}"
      ],
      "metadata": {
        "colab": {
          "base_uri": "https://localhost:8080/"
        },
        "id": "J_aRZixMeQ-T",
        "outputId": "1d2bb7b8-9bf2-4e98-beb9-4b842f0a080e"
      },
      "execution_count": 4,
      "outputs": [
        {
          "output_type": "stream",
          "name": "stdout",
          "text": [
            "Writing hello_tf.c\n"
          ]
        }
      ]
    },
    {
      "cell_type": "code",
      "source": [
        "%%bash\n",
        "gcc /content/hello_tf.c -ltensorflow -o hello_tf\n",
        "\n",
        "./hello_tf"
      ],
      "metadata": {
        "colab": {
          "base_uri": "https://localhost:8080/"
        },
        "id": "Z5MgGfBjeQ7e",
        "outputId": "4bf68166-3679-43ce-d624-f1b61fcbec9e"
      },
      "execution_count": 5,
      "outputs": [
        {
          "output_type": "stream",
          "name": "stdout",
          "text": [
            "Hello from TensorFlow C library version 2.11.0\n"
          ]
        }
      ]
    },
    {
      "cell_type": "code",
      "source": [],
      "metadata": {
        "id": "eZGF-_SQeQ4y"
      },
      "execution_count": 5,
      "outputs": []
    }
  ]
}